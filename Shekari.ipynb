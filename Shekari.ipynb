{
  "nbformat": 4,
  "nbformat_minor": 0,
  "metadata": {
    "colab": {
      "name": "Shekari.ipynb",
      "provenance": [],
      "collapsed_sections": []
    },
    "kernelspec": {
      "name": "python3",
      "display_name": "Python 3"
    }
  },
  "cells": [
    {
      "cell_type": "code",
      "metadata": {
        "colab": {
          "base_uri": "https://localhost:8080/"
        },
        "id": "nyVoFXPX09BN",
        "outputId": "5d817eea-f330-4051-8bf9-b1bf803358dc"
      },
      "source": [
        "!pip install nltk\r\n",
        "!pip install keras\r\n",
        "\r\n",
        "!pip install HAZM\r\n",
        "!pip install stopwords_guilannlp"
      ],
      "execution_count": null,
      "outputs": [
        {
          "output_type": "stream",
          "text": [
            "Requirement already satisfied: nltk in /usr/local/lib/python3.6/dist-packages (3.3)\n",
            "Requirement already satisfied: six in /usr/local/lib/python3.6/dist-packages (from nltk) (1.15.0)\n",
            "Requirement already satisfied: keras in /usr/local/lib/python3.6/dist-packages (2.4.3)\n",
            "Requirement already satisfied: numpy>=1.9.1 in /usr/local/lib/python3.6/dist-packages (from keras) (1.19.5)\n",
            "Requirement already satisfied: scipy>=0.14 in /usr/local/lib/python3.6/dist-packages (from keras) (1.4.1)\n",
            "Requirement already satisfied: pyyaml in /usr/local/lib/python3.6/dist-packages (from keras) (3.13)\n",
            "Requirement already satisfied: h5py in /usr/local/lib/python3.6/dist-packages (from keras) (2.10.0)\n",
            "Requirement already satisfied: six in /usr/local/lib/python3.6/dist-packages (from h5py->keras) (1.15.0)\n",
            "Requirement already satisfied: HAZM in /usr/local/lib/python3.6/dist-packages (0.7.0)\n",
            "Requirement already satisfied: libwapiti>=0.2.1; platform_system != \"Windows\" in /usr/local/lib/python3.6/dist-packages (from HAZM) (0.2.1)\n",
            "Requirement already satisfied: nltk==3.3 in /usr/local/lib/python3.6/dist-packages (from HAZM) (3.3)\n",
            "Requirement already satisfied: six in /usr/local/lib/python3.6/dist-packages (from libwapiti>=0.2.1; platform_system != \"Windows\"->HAZM) (1.15.0)\n",
            "Requirement already satisfied: stopwords_guilannlp in /usr/local/lib/python3.6/dist-packages (13.2019.3.5)\n"
          ],
          "name": "stdout"
        }
      ]
    },
    {
      "cell_type": "code",
      "metadata": {
        "colab": {
          "base_uri": "https://localhost:8080/"
        },
        "id": "yXkRSldN1zbc",
        "outputId": "cecc013e-7582-4ec9-e04c-826cc20150fe"
      },
      "source": [
        "import nltk\r\n",
        "nltk.download('stopwords')"
      ],
      "execution_count": null,
      "outputs": [
        {
          "output_type": "stream",
          "text": [
            "[nltk_data] Downloading package stopwords to /root/nltk_data...\n",
            "[nltk_data]   Package stopwords is already up-to-date!\n"
          ],
          "name": "stdout"
        },
        {
          "output_type": "execute_result",
          "data": {
            "text/plain": [
              "True"
            ]
          },
          "metadata": {
            "tags": []
          },
          "execution_count": 82
        }
      ]
    },
    {
      "cell_type": "code",
      "metadata": {
        "id": "JN_NwfOkrBNY"
      },
      "source": [
        "from hazm import *\r\n",
        "from stopwords_guilannlp import *\r\n",
        "import logging\r\n",
        "import pandas as pd\r\n",
        "import numpy as np\r\n",
        "from numpy import random\r\n",
        "import gensim\r\n",
        "import nltk\r\n",
        "import hazm\r\n",
        "from sklearn.model_selection import train_test_split\r\n",
        "from sklearn.feature_extraction.text import CountVectorizer, TfidfVectorizer\r\n",
        "from sklearn.metrics import accuracy_score, confusion_matrix\r\n",
        "import matplotlib.pyplot as plt\r\n",
        "from nltk.corpus import stopwords\r\n",
        "import re\r\n",
        "from bs4 import BeautifulSoup\r\n",
        "%matplotlib inline\r\n",
        "\r\n"
      ],
      "execution_count": null,
      "outputs": []
    },
    {
      "cell_type": "code",
      "metadata": {
        "id": "EwAtkDuDllvh"
      },
      "source": [
        "df = pd.read_excel('/content/dk recooord_2000.xlsx')\r\n",
        "# Keeping only the neccessary columns\r\n",
        "df = df[['comment','Label']]\r\n"
      ],
      "execution_count": null,
      "outputs": []
    },
    {
      "cell_type": "code",
      "metadata": {
        "colab": {
          "base_uri": "https://localhost:8080/",
          "height": 313
        },
        "id": "Lu3gt77-sAhg",
        "outputId": "8d8ba038-05c3-4451-b466-c5c6fa7202e7"
      },
      "source": [
        "plt.figure(figsize=(10,4))\r\n",
        "df.Label.value_counts().plot(kind='bar');"
      ],
      "execution_count": null,
      "outputs": [
        {
          "output_type": "display_data",
          "data": {
            "image/png": "[encoded data removed]",
            "text/plain": [
              "<Figure size 720x288 with 1 Axes>"
            ]
          },
          "metadata": {
            "tags": [],
            "needs_background": "light"
          }
        }
      ]
    },
    {
      "cell_type": "code",
      "metadata": {
        "id": "ut-y7-disWxn"
      },
      "source": [
        "REPLACE_BY_SPACE_RE = re.compile('[/(){}\\[\\]\\|@,;]')\r\n",
        "BAD_SYMBOLS_RE = re.compile('[^0-9a-z #+_]')\r\n",
        "STOPWORDS = set(stopwords.words('english'))\r\n",
        "STOP=stopwords_output(\"Persian\", \"nar\")\r\n",
        "def clean_text(text):\r\n",
        "    \"\"\"\r\n",
        "        text: a string\r\n",
        "        \r\n",
        "        return: modified initial string\r\n",
        "    \"\"\"\r\n",
        "    text = BeautifulSoup(text, \"lxml\").text # HTML decoding\r\n",
        "    text = text.lower() # lowercase text\r\n",
        "    text = REPLACE_BY_SPACE_RE.sub(' ', text) # replace REPLACE_BY_SPACE_RE symbols by space in text\r\n",
        "    text = BAD_SYMBOLS_RE.sub('', text) # delete symbols which are in BAD_SYMBOLS_RE from text\r\n",
        "    text = ' '.join(word for word in text.split() if word not in STOPWORDS) # delete stopwors from text\r\n",
        "    text = ' '.join(word for word in text.split() if word not in STOP) # delete stopwors from text\r\n",
        "\r\n",
        "    return text\r\n",
        "    \r\n",
        "df['comment'] = df['comment'].apply(clean_text)"
      ],
      "execution_count": null,
      "outputs": []
    },
    {
      "cell_type": "code",
      "metadata": {
        "colab": {
          "base_uri": "https://localhost:8080/"
        },
        "id": "QAjTectEsWuY",
        "outputId": "813a6a84-f0bc-4d82-ff8f-bf5ae8d7537c"
      },
      "source": [
        "df['comment'].apply(lambda x: len(x.split(' '))).sum()"
      ],
      "execution_count": null,
      "outputs": [
        {
          "output_type": "execute_result",
          "data": {
            "text/plain": [
              "3074"
            ]
          },
          "metadata": {
            "tags": []
          },
          "execution_count": 87
        }
      ]
    },
    {
      "cell_type": "code",
      "metadata": {
        "id": "nsdpWV9IsWsg"
      },
      "source": [
        "X=df.comment\r\n",
        "y=df.Label\r\n",
        "X_train, X_test, y_train, y_test = train_test_split(X, y, test_size=0.2, random_state = 12)"
      ],
      "execution_count": null,
      "outputs": []
    },
    {
      "cell_type": "code",
      "metadata": {
        "colab": {
          "base_uri": "https://localhost:8080/"
        },
        "id": "ARZWiqrCxRAN",
        "outputId": "26500721-4552-4e23-e067-520722908347"
      },
      "source": [
        "names=pd.read_csv('/content/Emojiiiiii.csv')\r\n",
        "my_tags =names.Code\r\n",
        "my_tags"
      ],
      "execution_count": null,
      "outputs": [
        {
          "output_type": "execute_result",
          "data": {
            "text/plain": [
              "0    U0001F604\n",
              "1    U0001F607\n",
              "2    U0001F60B\n",
              "3    U0001F910\n",
              "4    U0001F62E\n",
              "5    U0001F922\n",
              "6    U0001F973\n",
              "7    U0001F632\n",
              "8    U0001F631\n",
              "9    U0001F621\n",
              "Name: Code, dtype: object"
            ]
          },
          "metadata": {
            "tags": []
          },
          "execution_count": 89
        }
      ]
    },
    {
      "cell_type": "code",
      "metadata": {
        "colab": {
          "base_uri": "https://localhost:8080/"
        },
        "id": "A9XJzt_jtL8N",
        "outputId": "6a85c443-610a-44f2-f63d-21865202e915"
      },
      "source": [
        "from sklearn.naive_bayes import MultinomialNB\r\n",
        "from sklearn.pipeline import Pipeline\r\n",
        "from sklearn.feature_extraction.text import TfidfTransformer\r\n",
        "\r\n",
        "nb = Pipeline([('vect', CountVectorizer()),\r\n",
        "               ('tfidf', TfidfTransformer()),\r\n",
        "               ('clf', MultinomialNB()),\r\n",
        "              ])\r\n",
        "nb.fit(X_train, y_train)\r\n",
        "\r\n",
        "from sklearn.metrics import classification_report\r\n",
        "y_pred = nb.predict(X_test)\r\n",
        "\r\n",
        "print('accuracy %s' % accuracy_score(y_pred, y_test))\r\n",
        "print(classification_report(y_test, y_pred))"
      ],
      "execution_count": null,
      "outputs": [
        {
          "output_type": "stream",
          "text": [
            "accuracy 0.26\n",
            "              precision    recall  f1-score   support\n",
            "\n",
            "   U0001F604       0.00      0.00      0.00        50\n",
            "   U0001F607       0.26      0.97      0.41       103\n",
            "   U0001F60B       0.21      0.06      0.09        70\n",
            "   U0001F621       0.00      0.00      0.00        34\n",
            "   U0001F62E       0.00      0.00      0.00        17\n",
            "   U0001F631       0.00      0.00      0.00        16\n",
            "   U0001F632       0.00      0.00      0.00        16\n",
            "   U0001F910       0.00      0.00      0.00        34\n",
            "   U0001F922       0.00      0.00      0.00        53\n",
            "   U0001F973       0.00      0.00      0.00         7\n",
            "\n",
            "    accuracy                           0.26       400\n",
            "   macro avg       0.05      0.10      0.05       400\n",
            "weighted avg       0.10      0.26      0.12       400\n",
            "\n"
          ],
          "name": "stdout"
        },
        {
          "output_type": "stream",
          "text": [
            "/usr/local/lib/python3.6/dist-packages/sklearn/metrics/_classification.py:1272: UndefinedMetricWarning: Precision and F-score are ill-defined and being set to 0.0 in labels with no predicted samples. Use `zero_division` parameter to control this behavior.\n",
            "  _warn_prf(average, modifier, msg_start, len(result))\n"
          ],
          "name": "stderr"
        }
      ]
    },
    {
      "cell_type": "code",
      "metadata": {
        "colab": {
          "base_uri": "https://localhost:8080/"
        },
        "id": "_dZROZR2tpcM",
        "outputId": "ca8ec84e-04d4-4ccd-d538-c8650b528c7a"
      },
      "source": [
        "from sklearn.linear_model import SGDClassifier\r\n",
        "\r\n",
        "sgd = Pipeline([('vect', CountVectorizer()),\r\n",
        "                ('tfidf', TfidfTransformer()),\r\n",
        "                ('clf', SGDClassifier(loss='hinge', penalty='l2',alpha=1e-3, random_state=12, max_iter=5, tol=None)),\r\n",
        "               ])\r\n",
        "sgd.fit(X_train, y_train)\r\n",
        "\r\n",
        "\r\n",
        "\r\n",
        "y_pred = sgd.predict(X_test)\r\n",
        "\r\n",
        "print('accuracy %s' % accuracy_score(y_pred, y_test))\r\n",
        "print(classification_report(y_test, y_pred))"
      ],
      "execution_count": null,
      "outputs": [
        {
          "output_type": "stream",
          "text": [
            "accuracy 0.2525\n",
            "              precision    recall  f1-score   support\n",
            "\n",
            "   U0001F604       0.50      0.04      0.07        50\n",
            "   U0001F607       0.27      0.90      0.41       103\n",
            "   U0001F60B       0.17      0.04      0.07        70\n",
            "   U0001F621       0.00      0.00      0.00        34\n",
            "   U0001F62E       0.50      0.06      0.11        17\n",
            "   U0001F631       0.00      0.00      0.00        16\n",
            "   U0001F632       0.00      0.00      0.00        16\n",
            "   U0001F910       0.17      0.03      0.05        34\n",
            "   U0001F922       0.11      0.02      0.03        53\n",
            "   U0001F973       0.00      0.00      0.00         7\n",
            "\n",
            "    accuracy                           0.25       400\n",
            "   macro avg       0.17      0.11      0.07       400\n",
            "weighted avg       0.21      0.25      0.14       400\n",
            "\n"
          ],
          "name": "stdout"
        },
        {
          "output_type": "stream",
          "text": [
            "/usr/local/lib/python3.6/dist-packages/sklearn/metrics/_classification.py:1272: UndefinedMetricWarning: Precision and F-score are ill-defined and being set to 0.0 in labels with no predicted samples. Use `zero_division` parameter to control this behavior.\n",
            "  _warn_prf(average, modifier, msg_start, len(result))\n"
          ],
          "name": "stderr"
        }
      ]
    }
  ]
}